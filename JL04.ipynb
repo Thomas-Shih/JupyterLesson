{
 "cells": [
  {
   "cell_type": "markdown",
   "metadata": {},
   "source": [
    "第一：编写第一个Hello World"
   ]
  },
  {
   "cell_type": "markdown",
   "metadata": {},
   "source": [
    "Hello World！"
   ]
  },
  {
   "cell_type": "markdown",
   "metadata": {},
   "source": [
    "第二：Markdown标题"
   ]
  },
  {
   "cell_type": "markdown",
   "metadata": {},
   "source": [
    "2.1 使用=和-标记以及和二级标题"
   ]
  },
  {
   "cell_type": "markdown",
   "metadata": {},
   "source": [
    "我展示的是一级标题\n",
    "=================\n",
    "\n",
    "我展示的是二级标题\n",
    "---------------------------"
   ]
  },
  {
   "cell_type": "markdown",
   "metadata": {},
   "source": [
    "2.2 使用#号标记。使用 # 号可表示 1-6 级标题，一级标题对应一个 # 号，二级标题对应两个 # 号，以此类推。"
   ]
  },
  {
   "cell_type": "markdown",
   "metadata": {},
   "source": [
    "# 一级标题\n",
    "## 二级标题\n",
    "### 三级标题\n",
    "#### 四级标题\n",
    "##### 五级标题\n",
    "###### 六级标题"
   ]
  },
  {
   "cell_type": "markdown",
   "metadata": {},
   "source": [
    "第三：Markdown段落格式  \n",
    "Markdown没有特殊的段落格式，一般采取在末尾添加两个空格或者使用回车空行来显示两行段落"
   ]
  },
  {
   "cell_type": "markdown",
   "metadata": {},
   "source": [
    "这是第一行  \n",
    "这是第二行"
   ]
  },
  {
   "cell_type": "markdown",
   "metadata": {},
   "source": [
    "这是第一行\n",
    "\n",
    "这是第二行"
   ]
  },
  {
   "cell_type": "markdown",
   "metadata": {},
   "source": [
    "第四：字体  \n",
    "Markdown可以使用以下几种字体  \n",
    "*斜体文本*  \n",
    "_斜体文本_   \n",
    "**粗体文本**  \n",
    "__粗体文本__  \n",
    "***粗斜体文本***  \n",
    "___粗斜体文本___  "
   ]
  },
  {
   "cell_type": "markdown",
   "metadata": {},
   "source": [
    "第五：分割线  \n",
    "你可以在一行中用三个以上的星号、减号、底线来建立一个分隔线，行内不能有其他东西。你也可以在星号或是减号中间插入空格。下面每种写法都可以建立分隔线："
   ]
  },
  {
   "cell_type": "markdown",
   "metadata": {},
   "source": [
    "***\n",
    "\n",
    "* * *\n",
    "\n",
    "*****\n",
    "\n",
    "- - -\n",
    "\n",
    "----------\n"
   ]
  },
  {
   "cell_type": "markdown",
   "metadata": {},
   "source": [
    "第六：删除线  \n",
    "如果段落上的文字要添加删除线，只需要在文字的两端加上两个波浪线 ~~ 即可，实例如下："
   ]
  },
  {
   "cell_type": "markdown",
   "metadata": {},
   "source": [
    "RUNOOB.COM  \n",
    "GOOGLE.COM  \n",
    "~~BAIDU.COM~~  "
   ]
  },
  {
   "cell_type": "markdown",
   "metadata": {},
   "source": [
    "第七：下划线  \n",
    "下划线可以通过 HTML 的 <u> 标签来实现："
   ]
  },
  {
   "cell_type": "markdown",
   "metadata": {},
   "source": [
    "<u>带下划线文本</u>"
   ]
  },
  {
   "cell_type": "markdown",
   "metadata": {},
   "source": [
    "第八：脚注  \n",
    "脚注是对文本的补充说明。  \n",
    "Markdown 脚注的格式如下:  \n",
    "[^要注明的文本]"
   ]
  },
  {
   "cell_type": "markdown",
   "metadata": {},
   "source": [
    "创建脚注格式类似这样 [^RUNOOB]。\n",
    "\n",
    "[^RUNOOB]:  -- 学的不仅是技术，更是梦想！！！"
   ]
  },
  {
   "cell_type": "markdown",
   "metadata": {},
   "source": [
    "第九：列表  \n",
    "Markdown 支持有序列表和无序列表。  \n",
    "无序列表使用星号(*)、加号(+)或是减号(-)作为列表标记："
   ]
  },
  {
   "cell_type": "markdown",
   "metadata": {},
   "source": [
    "* 第一项\n",
    "* 第二项\n",
    "* 第三项\n",
    "\n",
    "+ 第一项\n",
    "+ 第二项\n",
    "+ 第三项\n",
    "\n",
    "\n",
    "- 第一项\n",
    "- 第二项\n",
    "- 第三项"
   ]
  },
  {
   "cell_type": "markdown",
   "metadata": {},
   "source": [
    "有序列表使用数字并加上 . 号来表示，如："
   ]
  },
  {
   "cell_type": "markdown",
   "metadata": {},
   "source": [
    "1. 第一项\n",
    "2. 第二项\n",
    "3. 第三项"
   ]
  },
  {
   "cell_type": "markdown",
   "metadata": {},
   "source": [
    "列表嵌套  \n",
    "列表嵌套只需在子列表中的选项添加四个空格即可：  "
   ]
  },
  {
   "cell_type": "markdown",
   "metadata": {},
   "source": [
    "1. 第一项：\n",
    "    - 第一项嵌套的第一个元素\n",
    "    - 第一项嵌套的第二个元素\n",
    "2. 第二项：\n",
    "    - 第二项嵌套的第一个元素\n",
    "    - 第二项嵌套的第二个元素"
   ]
  },
  {
   "cell_type": "markdown",
   "metadata": {},
   "source": [
    "第十：区块  \n",
    "Markdown 区块引用是在段落开头使用 > 符号 ，然后后面紧跟一个空格符号："
   ]
  },
  {
   "cell_type": "markdown",
   "metadata": {},
   "source": [
    "> 区块引用\n",
    "> Jupyter Notebook\n",
    "> 学的不仅是技术更是梦想"
   ]
  },
  {
   "cell_type": "markdown",
   "metadata": {},
   "source": [
    "另外区块是可以嵌套的，一个 > 符号是最外层，两个 > 符号是第一层嵌套，以此类推："
   ]
  },
  {
   "cell_type": "markdown",
   "metadata": {},
   "source": [
    "> 最外层\n",
    "> > 第一层嵌套\n",
    "> > > 第二层嵌套"
   ]
  },
  {
   "cell_type": "markdown",
   "metadata": {},
   "source": [
    "区块中使用列表\n",
    "区块中使用列表实例如下："
   ]
  },
  {
   "cell_type": "markdown",
   "metadata": {},
   "source": [
    "> 区块中使用列表\n",
    "> 1. 第一项\n",
    "> 2. 第二项\n",
    "> + 第一项\n",
    "> + 第二项\n",
    "> + 第三项"
   ]
  },
  {
   "cell_type": "markdown",
   "metadata": {},
   "source": [
    "列表中使用区块\n",
    "如果要在列表项目内放进区块，那么就需要在 > 前添加四个空格的缩进。\n",
    "\n",
    "区块中使用列表实例如下："
   ]
  },
  {
   "cell_type": "markdown",
   "metadata": {},
   "source": [
    "* 第一项\n",
    "    > Jupyter Notebook\n",
    "    > 学的不仅是技术更是梦想\n",
    "* 第二项"
   ]
  },
  {
   "cell_type": "markdown",
   "metadata": {},
   "source": [
    "第十一：代码  \n",
    "如果是段落上的一个函数或片段的代码可以用反引号把它包起来（`），例如："
   ]
  },
  {
   "cell_type": "markdown",
   "metadata": {},
   "source": [
    "`printf()` 函数"
   ]
  },
  {
   "cell_type": "markdown",
   "metadata": {},
   "source": [
    "代码区块  \n",
    "代码区块使用 4 个空格或者一个制表符（Tab 键）。  \n",
    "你也可以用 ``` 包裹一段代码，并指定一种语言（也可以不指定）："
   ]
  },
  {
   "cell_type": "markdown",
   "metadata": {},
   "source": [
    "```javascript\n",
    "$(document).ready(function () {\n",
    "    alert('RUNOOB');\n",
    "});\n",
    "```"
   ]
  },
  {
   "cell_type": "markdown",
   "metadata": {},
   "source": [
    "第十二：链接  \n",
    "链接使用方法如下：  \n",
    "[链接名称](链接地址)\n",
    "\n",
    "或者\n",
    "\n",
    "<链接地址>"
   ]
  },
  {
   "cell_type": "markdown",
   "metadata": {},
   "source": [
    "这是一个链接 [新浪](https://www.sina.com)"
   ]
  },
  {
   "cell_type": "markdown",
   "metadata": {},
   "source": [
    "直接使用链接地址："
   ]
  },
  {
   "cell_type": "markdown",
   "metadata": {},
   "source": [
    "<https://www.sina.com>"
   ]
  },
  {
   "cell_type": "markdown",
   "metadata": {},
   "source": [
    "高级链接\n",
    "链接也可以用变量来代替，文档末尾附带变量地址：\n",
    "这个链接用 1 作为网址变量 [Google][1]\n",
    "这个链接用 sina 作为网址变量 [Sina][sina]\n",
    "然后在文档的结尾为变量赋值（网址）"
   ]
  },
  {
   "cell_type": "markdown",
   "metadata": {},
   "source": [
    "[1]: http://www.google.com/\n",
    "[sina]: http://www.sina.com/"
   ]
  },
  {
   "cell_type": "markdown",
   "metadata": {},
   "source": [
    "[1]:http://www.google.com"
   ]
  },
  {
   "cell_type": "markdown",
   "metadata": {},
   "source": [
    "第十三：图片  \n",
    "Markdown 图片语法格式如下：  \n",
    "![alt 属性文本](图片地址)  \n",
    "![alt 属性文本](图片地址 \"可选标题\")  \n",
    "开头一个感叹号 !  \n",
    "接着一个方括号，里面放上图片的替代文字  \n",
    "接着一个普通括号，里面放上图片的网址，最后还可以用引号包住并加上选择性的 'title' 属性的文字。  "
   ]
  },
  {
   "cell_type": "markdown",
   "metadata": {},
   "source": [
    "![RUNOOB 图标](http://static.runoob.com/images/runoob-logo.png)\n",
    "\n",
    "![RUNOOB 图标](http://static.runoob.com/images/runoob-logo.png \"RUNOOB\")"
   ]
  },
  {
   "cell_type": "markdown",
   "metadata": {},
   "source": [
    "当然，你也可以像网址那样对图片网址使用变量:  "
   ]
  },
  {
   "cell_type": "markdown",
   "metadata": {},
   "source": [
    "这个链接用 1 作为网址变量 [RUNOOB][1].  \n",
    "然后在文档的结尾位变量赋值（网址）  \n",
    "\n",
    "[1]: http://static.runoob.com/images/runoob-logo.png"
   ]
  },
  {
   "cell_type": "markdown",
   "metadata": {},
   "source": [
    "Markdown 还没有办法指定图片的高度与宽度，如果你需要的话，你可以使用普通的 <img> 标签。"
   ]
  },
  {
   "cell_type": "markdown",
   "metadata": {},
   "source": [
    "<img src=\"http://static.runoob.com/images/runoob-logo.png\" width=\"50%\">"
   ]
  },
  {
   "cell_type": "markdown",
   "metadata": {},
   "source": [
    "第十四：表格  \n",
    "Markdown 制作表格使用 | 来分隔不同的单元格，使用 - 来分隔表头和其他行。  \n",
    "语法格式如下：  \n",
    "|  表头   | 表头  |  \n",
    "|  ----  | ----  |  \n",
    "| 单元格  | 单元格 |  \n",
    "| 单元格  | 单元格 |  "
   ]
  },
  {
   "cell_type": "markdown",
   "metadata": {},
   "source": [
    "|  表头   | 表头  |  \n",
    "|  ----  | ----  |  \n",
    "| 单元格  | 单元格 |  \n",
    "| 单元格  | 单元格 |  "
   ]
  },
  {
   "cell_type": "markdown",
   "metadata": {},
   "source": [
    "我们可以设置表格的对齐方式：  \n",
    "\n",
    "-: 设置内容和标题栏居右对齐。  \n",
    ":- 设置内容和标题栏居左对齐。  \n",
    ":-: 设置内容和标题栏居中对齐。  "
   ]
  },
  {
   "cell_type": "markdown",
   "metadata": {},
   "source": [
    "| 左对齐 | 右对齐 | 居中对齐 |\n",
    "| :-----| ----: | :----: |\n",
    "| 单元格 | 单元格 | 单元格 |\n",
    "| 单元格 | 单元格 | 单元格 |"
   ]
  },
  {
   "cell_type": "markdown",
   "metadata": {},
   "source": [
    "第十五：高级技巧"
   ]
  },
  {
   "cell_type": "markdown",
   "metadata": {},
   "source": [
    "不在 Markdown 涵盖范围之内的标签，都可以直接在文档里面用 HTML 撰写。  \n",
    "目前支持的 HTML 元素有：<kbd> <b> <i> <em> <sup> <sub> <br>等 ，如：  "
   ]
  },
  {
   "cell_type": "markdown",
   "metadata": {},
   "source": [
    "使用 <kbd>Ctrl</kbd>+<kbd>Alt</kbd>+<kbd>Del</kbd> 重启电脑"
   ]
  },
  {
   "cell_type": "markdown",
   "metadata": {},
   "source": [
    "转义\n",
    "Markdown 使用了很多特殊符号来表示特定的意义，如果需要显示特定的符号则需要使用转义字符，Markdown 使用反斜杠转义特殊字符："
   ]
  },
  {
   "cell_type": "markdown",
   "metadata": {},
   "source": [
    "**文本加粗** \n",
    "\\*\\* 正常显示星号 \\*\\*"
   ]
  },
  {
   "cell_type": "markdown",
   "metadata": {},
   "source": [
    "Markdown 支持以下这些符号前面加上反斜杠来帮助插入普通的符号："
   ]
  },
  {
   "cell_type": "markdown",
   "metadata": {},
   "source": [
    "\\   反斜线  \n",
    "`   反引号  \n",
    "*   星号  \n",
    "_   下划线  \n",
    "{}  花括号  \n",
    "[]  方括号  \n",
    "()  小括号  \n",
    "#   井字号  \n",
    "+   加号  \n",
    "-   减号  \n",
    ".   英文句点  \n",
    "!   感叹号  "
   ]
  },
  {
   "cell_type": "markdown",
   "metadata": {},
   "source": [
    "公式  \n",
    "当你需要在编辑器中插入数学公式时，可以使用两个美元符 $$ 包裹 TeX 或 LaTeX 格式的数学公式来实现。提交后，问答和文章页会根据需要加载 Mathjax 对数学公式进行渲染。如："
   ]
  },
  {
   "cell_type": "markdown",
   "metadata": {},
   "source": [
    "$$\n",
    "\\mathbf{V}_1 \\times \\mathbf{V}_2 =  \\begin{vmatrix} \n",
    "\\mathbf{i} & \\mathbf{j} & \\mathbf{k} \\\\\n",
    "\\frac{\\partial X}{\\partial u} &  \\frac{\\partial Y}{\\partial u} & 0 \\\\\n",
    "\\frac{\\partial X}{\\partial v} &  \\frac{\\partial Y}{\\partial v} & 0 \\\\\n",
    "\\end{vmatrix}\n",
    "$$"
   ]
  },
  {
   "cell_type": "code",
   "execution_count": null,
   "metadata": {},
   "outputs": [],
   "source": []
  },
  {
   "cell_type": "code",
   "execution_count": null,
   "metadata": {},
   "outputs": [],
   "source": []
  }
 ],
 "metadata": {
  "hide_input": false,
  "kernelspec": {
   "display_name": "Python 3",
   "language": "python",
   "name": "python3"
  },
  "language_info": {
   "codemirror_mode": {
    "name": "ipython",
    "version": 3
   },
   "file_extension": ".py",
   "mimetype": "text/x-python",
   "name": "python",
   "nbconvert_exporter": "python",
   "pygments_lexer": "ipython3",
   "version": "3.7.4"
  },
  "toc": {
   "base_numbering": 1,
   "nav_menu": {},
   "number_sections": true,
   "sideBar": true,
   "skip_h1_title": false,
   "title_cell": "Table of Contents",
   "title_sidebar": "Contents",
   "toc_cell": false,
   "toc_position": {},
   "toc_section_display": true,
   "toc_window_display": false
  },
  "varInspector": {
   "cols": {
    "lenName": 16,
    "lenType": 16,
    "lenVar": 40
   },
   "kernels_config": {
    "python": {
     "delete_cmd_postfix": "",
     "delete_cmd_prefix": "del ",
     "library": "var_list.py",
     "varRefreshCmd": "print(var_dic_list())"
    },
    "r": {
     "delete_cmd_postfix": ") ",
     "delete_cmd_prefix": "rm(",
     "library": "var_list.r",
     "varRefreshCmd": "cat(var_dic_list()) "
    }
   },
   "types_to_exclude": [
    "module",
    "function",
    "builtin_function_or_method",
    "instance",
    "_Feature"
   ],
   "window_display": false
  }
 },
 "nbformat": 4,
 "nbformat_minor": 2
}
